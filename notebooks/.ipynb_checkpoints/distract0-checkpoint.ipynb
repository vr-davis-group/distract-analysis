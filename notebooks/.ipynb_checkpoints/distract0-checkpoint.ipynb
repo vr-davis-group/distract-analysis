{
 "cells": [
  {
   "cell_type": "markdown",
   "metadata": {},
   "source": [
    "### Load subject data "
   ]
  },
  {
   "cell_type": "code",
   "execution_count": 27,
   "metadata": {},
   "outputs": [],
   "source": [
    "import pandas as pd\n",
    "import os\n",
    "\n",
    "dirPath = r\"C:\\Users\\stoke\\AppData\\LocalLow\\cmb\\Distract\"\n",
    "subjectID = \"bopilot1\"\n",
    "resultType = \"trial_results\"\n",
    "date = \"04_29_2019_01_37_35\"\n",
    "fileName = \"_\".join([subjectID,resultType,date])\n",
    "filePath = os.path.join(dirPath,subjectID,fileName + \".csv\")\n",
    "df = pd.read_table(filePath,sep =',')"
   ]
  },
  {
   "cell_type": "code",
   "execution_count": 28,
   "metadata": {},
   "outputs": [],
   "source": [
    "df = df.drop('Unnamed: 14', axis = 1)"
   ]
  },
  {
   "cell_type": "code",
   "execution_count": 29,
   "metadata": {},
   "outputs": [
    {
     "data": {
      "text/plain": [
       "trialNumberGlobal       int64\n",
       "trialNumberBlock        int64\n",
       "blockNumber             int64\n",
       "timeExperiment        float64\n",
       "timeBlock             float64\n",
       "reactionTime          float64\n",
       "blockType              object\n",
       "fireType               object\n",
       "targetType             object\n",
       "numDistractors          int64\n",
       "numDistractorsSing      int64\n",
       "blockFirePosition      object\n",
       "targetPosition         object\n",
       "trialFirePosition      object\n",
       "dtype: object"
      ]
     },
     "execution_count": 29,
     "metadata": {},
     "output_type": "execute_result"
    }
   ],
   "source": [
    "df.dtypes"
   ]
  },
  {
   "cell_type": "code",
   "execution_count": 30,
   "metadata": {},
   "outputs": [
    {
     "data": {
      "text/html": [
       "<div>\n",
       "<style scoped>\n",
       "    .dataframe tbody tr th:only-of-type {\n",
       "        vertical-align: middle;\n",
       "    }\n",
       "\n",
       "    .dataframe tbody tr th {\n",
       "        vertical-align: top;\n",
       "    }\n",
       "\n",
       "    .dataframe thead th {\n",
       "        text-align: right;\n",
       "    }\n",
       "</style>\n",
       "<table border=\"1\" class=\"dataframe\">\n",
       "  <thead>\n",
       "    <tr style=\"text-align: right;\">\n",
       "      <th></th>\n",
       "      <th>trialNumberGlobal</th>\n",
       "      <th>trialNumberBlock</th>\n",
       "      <th>blockNumber</th>\n",
       "      <th>timeExperiment</th>\n",
       "      <th>timeBlock</th>\n",
       "      <th>reactionTime</th>\n",
       "      <th>blockType</th>\n",
       "      <th>fireType</th>\n",
       "      <th>targetType</th>\n",
       "      <th>numDistractors</th>\n",
       "      <th>numDistractorsSing</th>\n",
       "      <th>blockFirePosition</th>\n",
       "      <th>targetPosition</th>\n",
       "      <th>trialFirePosition</th>\n",
       "    </tr>\n",
       "  </thead>\n",
       "  <tbody>\n",
       "    <tr>\n",
       "      <th>0</th>\n",
       "      <td>0</td>\n",
       "      <td>0</td>\n",
       "      <td>0</td>\n",
       "      <td>61.33232</td>\n",
       "      <td>2.268446</td>\n",
       "      <td>1.387270</td>\n",
       "      <td>BlockFire</td>\n",
       "      <td>none</td>\n",
       "      <td>NonFire</td>\n",
       "      <td>30</td>\n",
       "      <td>6</td>\n",
       "      <td>(-17.0, 2.0, 15.0)</td>\n",
       "      <td>(-8.0, 3.0, 19.0)</td>\n",
       "      <td>(0.0, 0.0, 0.0)</td>\n",
       "    </tr>\n",
       "    <tr>\n",
       "      <th>1</th>\n",
       "      <td>1</td>\n",
       "      <td>1</td>\n",
       "      <td>0</td>\n",
       "      <td>64.21370</td>\n",
       "      <td>5.149840</td>\n",
       "      <td>0.569179</td>\n",
       "      <td>BlockFire</td>\n",
       "      <td>trial</td>\n",
       "      <td>NonFire</td>\n",
       "      <td>30</td>\n",
       "      <td>6</td>\n",
       "      <td>(-17.0, 2.0, 15.0)</td>\n",
       "      <td>(-18.0, 1.0, 10.0)</td>\n",
       "      <td>(-15.0, 4.0, 4.0)</td>\n",
       "    </tr>\n",
       "    <tr>\n",
       "      <th>2</th>\n",
       "      <td>2</td>\n",
       "      <td>2</td>\n",
       "      <td>0</td>\n",
       "      <td>68.23469</td>\n",
       "      <td>9.170863</td>\n",
       "      <td>2.233107</td>\n",
       "      <td>BlockFire</td>\n",
       "      <td>none</td>\n",
       "      <td>NonFire</td>\n",
       "      <td>30</td>\n",
       "      <td>6</td>\n",
       "      <td>(-17.0, 2.0, 15.0)</td>\n",
       "      <td>(16.0, 1.0, 6.0)</td>\n",
       "      <td>(0.0, 0.0, 0.0)</td>\n",
       "    </tr>\n",
       "    <tr>\n",
       "      <th>3</th>\n",
       "      <td>3</td>\n",
       "      <td>3</td>\n",
       "      <td>0</td>\n",
       "      <td>70.61410</td>\n",
       "      <td>11.550320</td>\n",
       "      <td>1.028535</td>\n",
       "      <td>BlockFire</td>\n",
       "      <td>none</td>\n",
       "      <td>NonFire</td>\n",
       "      <td>30</td>\n",
       "      <td>6</td>\n",
       "      <td>(-17.0, 2.0, 15.0)</td>\n",
       "      <td>(-7.0, 2.0, 3.0)</td>\n",
       "      <td>(0.0, 0.0, 0.0)</td>\n",
       "    </tr>\n",
       "    <tr>\n",
       "      <th>4</th>\n",
       "      <td>4</td>\n",
       "      <td>4</td>\n",
       "      <td>0</td>\n",
       "      <td>74.34414</td>\n",
       "      <td>15.280320</td>\n",
       "      <td>1.686176</td>\n",
       "      <td>BlockFire</td>\n",
       "      <td>block</td>\n",
       "      <td>NonFire</td>\n",
       "      <td>30</td>\n",
       "      <td>6</td>\n",
       "      <td>(-17.0, 2.0, 15.0)</td>\n",
       "      <td>(9.0, 3.0, 4.0)</td>\n",
       "      <td>(0.0, 0.0, 0.0)</td>\n",
       "    </tr>\n",
       "  </tbody>\n",
       "</table>\n",
       "</div>"
      ],
      "text/plain": [
       "   trialNumberGlobal  trialNumberBlock  blockNumber  timeExperiment  \\\n",
       "0                  0                 0            0        61.33232   \n",
       "1                  1                 1            0        64.21370   \n",
       "2                  2                 2            0        68.23469   \n",
       "3                  3                 3            0        70.61410   \n",
       "4                  4                 4            0        74.34414   \n",
       "\n",
       "   timeBlock  reactionTime  blockType fireType targetType  numDistractors  \\\n",
       "0   2.268446      1.387270  BlockFire     none    NonFire              30   \n",
       "1   5.149840      0.569179  BlockFire    trial    NonFire              30   \n",
       "2   9.170863      2.233107  BlockFire     none    NonFire              30   \n",
       "3  11.550320      1.028535  BlockFire     none    NonFire              30   \n",
       "4  15.280320      1.686176  BlockFire    block    NonFire              30   \n",
       "\n",
       "   numDistractorsSing   blockFirePosition      targetPosition  \\\n",
       "0                   6  (-17.0, 2.0, 15.0)   (-8.0, 3.0, 19.0)   \n",
       "1                   6  (-17.0, 2.0, 15.0)  (-18.0, 1.0, 10.0)   \n",
       "2                   6  (-17.0, 2.0, 15.0)    (16.0, 1.0, 6.0)   \n",
       "3                   6  (-17.0, 2.0, 15.0)    (-7.0, 2.0, 3.0)   \n",
       "4                   6  (-17.0, 2.0, 15.0)     (9.0, 3.0, 4.0)   \n",
       "\n",
       "   trialFirePosition  \n",
       "0    (0.0, 0.0, 0.0)  \n",
       "1  (-15.0, 4.0, 4.0)  \n",
       "2    (0.0, 0.0, 0.0)  \n",
       "3    (0.0, 0.0, 0.0)  \n",
       "4    (0.0, 0.0, 0.0)  "
      ]
     },
     "execution_count": 30,
     "metadata": {},
     "output_type": "execute_result"
    }
   ],
   "source": [
    "df.head()"
   ]
  },
  {
   "cell_type": "code",
   "execution_count": 31,
   "metadata": {},
   "outputs": [
    {
     "data": {
      "text/plain": [
       "trialNumberGlobal     800\n",
       "trialNumberBlock      800\n",
       "blockNumber           800\n",
       "timeExperiment        800\n",
       "timeBlock             800\n",
       "reactionTime          800\n",
       "blockType             800\n",
       "fireType              800\n",
       "targetType            800\n",
       "numDistractors        800\n",
       "numDistractorsSing    800\n",
       "blockFirePosition     800\n",
       "targetPosition        800\n",
       "trialFirePosition     800\n",
       "dtype: int64"
      ]
     },
     "execution_count": 31,
     "metadata": {},
     "output_type": "execute_result"
    }
   ],
   "source": [
    "df.count()"
   ]
  },
  {
   "cell_type": "code",
   "execution_count": 32,
   "metadata": {},
   "outputs": [],
   "source": [
    "df = df[~df[\"reactionTime\"].duplicated(keep=False)]\n"
   ]
  },
  {
   "cell_type": "code",
   "execution_count": 33,
   "metadata": {},
   "outputs": [],
   "source": [
    "df = df.loc[(df['reactionTime'] < 4)]"
   ]
  },
  {
   "cell_type": "code",
   "execution_count": 34,
   "metadata": {},
   "outputs": [
    {
     "data": {
      "text/plain": [
       "trialNumberGlobal     530\n",
       "trialNumberBlock      530\n",
       "blockNumber           530\n",
       "timeExperiment        530\n",
       "timeBlock             530\n",
       "reactionTime          530\n",
       "blockType             530\n",
       "fireType              530\n",
       "targetType            530\n",
       "numDistractors        530\n",
       "numDistractorsSing    530\n",
       "blockFirePosition     530\n",
       "targetPosition        530\n",
       "trialFirePosition     530\n",
       "dtype: int64"
      ]
     },
     "execution_count": 34,
     "metadata": {},
     "output_type": "execute_result"
    }
   ],
   "source": [
    "df.count()"
   ]
  },
  {
   "cell_type": "code",
   "execution_count": 12,
   "metadata": {},
   "outputs": [
    {
     "data": {
      "text/plain": [
       "35.38691666666667"
      ]
     },
     "execution_count": 12,
     "metadata": {},
     "output_type": "execute_result"
    }
   ],
   "source": [
    "# Session length(minutes)\n",
    "df['timeExperiment'][799]/60"
   ]
  },
  {
   "cell_type": "code",
   "execution_count": 35,
   "metadata": {},
   "outputs": [],
   "source": [
    "import matplotlib.pyplot as plt\n",
    "import numpy as np\n",
    "from matplotlib import colors\n",
    "from matplotlib.ticker import PercentFormatter\n"
   ]
  },
  {
   "cell_type": "code",
   "execution_count": 36,
   "metadata": {},
   "outputs": [
    {
     "data": {
      "image/png": "[encoded data removed]",
      "text/plain": [
       "<Figure size 432x288 with 1 Axes>"
      ]
     },
     "metadata": {
      "needs_background": "light"
     },
     "output_type": "display_data"
    }
   ],
   "source": [
    "num_bins = 100\n",
    "fig, ax = plt.subplots()\n",
    "x = df['reactionTime']\n",
    "n, bins, patches = ax.hist(x, num_bins, density=1)\n",
    "# Tweak spacing to prevent clipping of ylabel\n",
    "fig.tight_layout()\n",
    "plt.show()"
   ]
  },
  {
   "cell_type": "code",
   "execution_count": 37,
   "metadata": {},
   "outputs": [
    {
     "data": {
      "text/plain": [
       "1.1403336529433956"
      ]
     },
     "execution_count": 37,
     "metadata": {},
     "output_type": "execute_result"
    }
   ],
   "source": [
    "# Mean reaction time (s)\n",
    "df['reactionTime'].mean()"
   ]
  },
  {
   "cell_type": "code",
   "execution_count": 38,
   "metadata": {},
   "outputs": [
    {
     "data": {
      "text/plain": [
       "array(['BlockFire', 'None'], dtype=object)"
      ]
     },
     "execution_count": 38,
     "metadata": {},
     "output_type": "execute_result"
    }
   ],
   "source": [
    "#Types of blocks\n",
    "df['blockType'].unique()"
   ]
  },
  {
   "cell_type": "code",
   "execution_count": 39,
   "metadata": {},
   "outputs": [
    {
     "data": {
      "text/plain": [
       "array(['none', 'trial', 'block'], dtype=object)"
      ]
     },
     "execution_count": 39,
     "metadata": {},
     "output_type": "execute_result"
    }
   ],
   "source": [
    "#Types of singleton distractor types\n",
    "df['fireType'].unique()"
   ]
  },
  {
   "cell_type": "code",
   "execution_count": 42,
   "metadata": {},
   "outputs": [],
   "source": [
    "rt_main_none = df.loc[(df['fireType'] == 'none') & (df['blockType'] == 'BlockFire'),'reactionTime']\n",
    "rt_main_trial = df.loc[(df['fireType'] == 'trial') & (df['blockType'] == 'BlockFire'),'reactionTime']\n",
    "rt_main_block = df.loc[(df['fireType'] == 'block') & (df['blockType'] == 'BlockFire'),'reactionTime']"
   ]
  },
  {
   "cell_type": "code",
   "execution_count": 46,
   "metadata": {},
   "outputs": [
    {
     "name": "stdout",
     "output_type": "stream",
     "text": [
      "1.2279866753086415\n",
      "1.2762725177999996\n",
      "1.295416633015075\n"
     ]
    }
   ],
   "source": [
    "print(rt_main_none.mean())\n",
    "print(rt_main_trial.mean())\n",
    "print(rt_main_block.mean())"
   ]
  },
  {
   "cell_type": "code",
   "execution_count": 43,
   "metadata": {},
   "outputs": [
    {
     "data": {
      "text/plain": [
       "Ttest_indResult(statistic=-0.13626605580803663, pvalue=0.8917219525269668)"
      ]
     },
     "execution_count": 43,
     "metadata": {},
     "output_type": "execute_result"
    }
   ],
   "source": [
    "from scipy import stats\n",
    "stats.ttest_ind(rt_main_trial,rt_main_block)"
   ]
  },
  {
   "cell_type": "code",
   "execution_count": null,
   "metadata": {},
   "outputs": [],
   "source": [
    "line = df['targetPosition'][0]\n",
    "chars = \")(\"\n",
    "for c in chars:\n",
    "    line = line.replace(c,\"\")"
   ]
  }
 ],
 "metadata": {
  "kernelspec": {
   "display_name": "Python 3",
   "language": "python",
   "name": "python3"
  },
  "language_info": {
   "codemirror_mode": {
    "name": "ipython",
    "version": 3
   },
   "file_extension": ".py",
   "mimetype": "text/x-python",
   "name": "python",
   "nbconvert_exporter": "python",
   "pygments_lexer": "ipython3",
   "version": "3.7.1"
  }
 },
 "nbformat": 4,
 "nbformat_minor": 2
}
