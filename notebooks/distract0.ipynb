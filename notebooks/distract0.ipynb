{
 "cells": [
  {
   "cell_type": "markdown",
   "metadata": {},
   "source": [
    "### Load subject data "
   ]
  },
  {
   "cell_type": "code",
   "execution_count": 9,
   "metadata": {},
   "outputs": [],
   "source": [
    "import pandas as pd\n",
    "import os\n",
    "\n",
    "dirPath = r\"C:\\Users\\stoke\\AppData\\LocalLow\\cmb\\Distract\\SimTest1\"\n",
    "subjectID = \"SimTest1\"\n",
    "resultType = \"trial_results\"\n",
    "date = \"04_29_2019_12_34_35\"\n",
    "fileName = \"_\".join([subjectID,resultType,date])\n",
    "filePath = os.path.join(dirPath,fileName + \".csv\")\n",
    "df = pd.read_table(filePath,sep =',')"
   ]
  },
  {
   "cell_type": "code",
   "execution_count": 37,
   "metadata": {},
   "outputs": [],
   "source": [
    "df = df.drop('Unnamed: 14', axis = 1)"
   ]
  },
  {
   "cell_type": "code",
   "execution_count": 49,
   "metadata": {},
   "outputs": [
    {
     "data": {
      "text/plain": [
       "trialNumberGlobal       int64\n",
       "trialNumberBlock        int64\n",
       "blockNumber             int64\n",
       "timeExperiment        float64\n",
       "timeBlock             float64\n",
       "reactionTime          float64\n",
       "blockType              object\n",
       "fireType               object\n",
       "targetType             object\n",
       "numDistractors          int64\n",
       "numDistractorsSing      int64\n",
       "blockFirePosition      object\n",
       "targetPosition         object\n",
       "trialFirePosition      object\n",
       "dtype: object"
      ]
     },
     "execution_count": 49,
     "metadata": {},
     "output_type": "execute_result"
    }
   ],
   "source": [
    "df.dtypes"
   ]
  },
  {
   "cell_type": "code",
   "execution_count": 59,
   "metadata": {},
   "outputs": [
    {
     "data": {
      "text/html": [
       "<div>\n",
       "<style scoped>\n",
       "    .dataframe tbody tr th:only-of-type {\n",
       "        vertical-align: middle;\n",
       "    }\n",
       "\n",
       "    .dataframe tbody tr th {\n",
       "        vertical-align: top;\n",
       "    }\n",
       "\n",
       "    .dataframe thead th {\n",
       "        text-align: right;\n",
       "    }\n",
       "</style>\n",
       "<table border=\"1\" class=\"dataframe\">\n",
       "  <thead>\n",
       "    <tr style=\"text-align: right;\">\n",
       "      <th></th>\n",
       "      <th>trialNumberGlobal</th>\n",
       "      <th>trialNumberBlock</th>\n",
       "      <th>blockNumber</th>\n",
       "      <th>timeExperiment</th>\n",
       "      <th>timeBlock</th>\n",
       "      <th>reactionTime</th>\n",
       "      <th>blockType</th>\n",
       "      <th>fireType</th>\n",
       "      <th>targetType</th>\n",
       "      <th>numDistractors</th>\n",
       "      <th>numDistractorsSing</th>\n",
       "      <th>blockFirePosition</th>\n",
       "      <th>targetPosition</th>\n",
       "      <th>trialFirePosition</th>\n",
       "    </tr>\n",
       "  </thead>\n",
       "  <tbody>\n",
       "    <tr>\n",
       "      <th>0</th>\n",
       "      <td>0</td>\n",
       "      <td>0</td>\n",
       "      <td>0</td>\n",
       "      <td>3.394631</td>\n",
       "      <td>1.874190</td>\n",
       "      <td>0.722232</td>\n",
       "      <td>BlockFire</td>\n",
       "      <td>block</td>\n",
       "      <td>Fire</td>\n",
       "      <td>30</td>\n",
       "      <td>6</td>\n",
       "      <td>(12.0, 1.0, 13.0)</td>\n",
       "      <td>(10.0, 2.0, 11.0)</td>\n",
       "      <td>(0.0, 0.0, 0.0)</td>\n",
       "    </tr>\n",
       "    <tr>\n",
       "      <th>1</th>\n",
       "      <td>1</td>\n",
       "      <td>1</td>\n",
       "      <td>0</td>\n",
       "      <td>6.306173</td>\n",
       "      <td>4.785729</td>\n",
       "      <td>1.206082</td>\n",
       "      <td>BlockFire</td>\n",
       "      <td>block</td>\n",
       "      <td>NonFire</td>\n",
       "      <td>30</td>\n",
       "      <td>6</td>\n",
       "      <td>(12.0, 1.0, 13.0)</td>\n",
       "      <td>(15.0, 1.0, 18.0)</td>\n",
       "      <td>(0.0, 0.0, 0.0)</td>\n",
       "    </tr>\n",
       "    <tr>\n",
       "      <th>2</th>\n",
       "      <td>2</td>\n",
       "      <td>2</td>\n",
       "      <td>0</td>\n",
       "      <td>9.100067</td>\n",
       "      <td>7.579619</td>\n",
       "      <td>1.081556</td>\n",
       "      <td>BlockFire</td>\n",
       "      <td>block</td>\n",
       "      <td>NonFire</td>\n",
       "      <td>30</td>\n",
       "      <td>6</td>\n",
       "      <td>(12.0, 1.0, 13.0)</td>\n",
       "      <td>(4.0, 2.0, 3.0)</td>\n",
       "      <td>(0.0, 0.0, 0.0)</td>\n",
       "    </tr>\n",
       "    <tr>\n",
       "      <th>3</th>\n",
       "      <td>3</td>\n",
       "      <td>3</td>\n",
       "      <td>0</td>\n",
       "      <td>11.739940</td>\n",
       "      <td>10.219490</td>\n",
       "      <td>0.953316</td>\n",
       "      <td>BlockFire</td>\n",
       "      <td>block</td>\n",
       "      <td>NonFire</td>\n",
       "      <td>30</td>\n",
       "      <td>6</td>\n",
       "      <td>(12.0, 1.0, 13.0)</td>\n",
       "      <td>(-3.0, 1.0, 6.0)</td>\n",
       "      <td>(0.0, 0.0, 0.0)</td>\n",
       "    </tr>\n",
       "    <tr>\n",
       "      <th>4</th>\n",
       "      <td>4</td>\n",
       "      <td>4</td>\n",
       "      <td>0</td>\n",
       "      <td>14.871180</td>\n",
       "      <td>13.350730</td>\n",
       "      <td>1.423207</td>\n",
       "      <td>BlockFire</td>\n",
       "      <td>block</td>\n",
       "      <td>NonFire</td>\n",
       "      <td>30</td>\n",
       "      <td>6</td>\n",
       "      <td>(12.0, 1.0, 13.0)</td>\n",
       "      <td>(0.0, 3.0, 6.0)</td>\n",
       "      <td>(0.0, 0.0, 0.0)</td>\n",
       "    </tr>\n",
       "  </tbody>\n",
       "</table>\n",
       "</div>"
      ],
      "text/plain": [
       "   trialNumberGlobal  trialNumberBlock  blockNumber  timeExperiment  \\\n",
       "0                  0                 0            0        3.394631   \n",
       "1                  1                 1            0        6.306173   \n",
       "2                  2                 2            0        9.100067   \n",
       "3                  3                 3            0       11.739940   \n",
       "4                  4                 4            0       14.871180   \n",
       "\n",
       "   timeBlock  reactionTime  blockType fireType targetType  numDistractors  \\\n",
       "0   1.874190      0.722232  BlockFire    block       Fire              30   \n",
       "1   4.785729      1.206082  BlockFire    block    NonFire              30   \n",
       "2   7.579619      1.081556  BlockFire    block    NonFire              30   \n",
       "3  10.219490      0.953316  BlockFire    block    NonFire              30   \n",
       "4  13.350730      1.423207  BlockFire    block    NonFire              30   \n",
       "\n",
       "   numDistractorsSing  blockFirePosition     targetPosition trialFirePosition  \n",
       "0                   6  (12.0, 1.0, 13.0)  (10.0, 2.0, 11.0)   (0.0, 0.0, 0.0)  \n",
       "1                   6  (12.0, 1.0, 13.0)  (15.0, 1.0, 18.0)   (0.0, 0.0, 0.0)  \n",
       "2                   6  (12.0, 1.0, 13.0)    (4.0, 2.0, 3.0)   (0.0, 0.0, 0.0)  \n",
       "3                   6  (12.0, 1.0, 13.0)   (-3.0, 1.0, 6.0)   (0.0, 0.0, 0.0)  \n",
       "4                   6  (12.0, 1.0, 13.0)    (0.0, 3.0, 6.0)   (0.0, 0.0, 0.0)  "
      ]
     },
     "execution_count": 59,
     "metadata": {},
     "output_type": "execute_result"
    }
   ],
   "source": [
    "df.head()"
   ]
  },
  {
   "cell_type": "code",
   "execution_count": 46,
   "metadata": {},
   "outputs": [],
   "source": [
    "line = df['targetPosition'][0]\n",
    "chars = \")(\"\n",
    "for c in chars:\n",
    "    line = line.replace(c,\"\")\n"
   ]
  },
  {
   "cell_type": "code",
   "execution_count": 56,
   "metadata": {},
   "outputs": [
    {
     "data": {
      "text/plain": [
       "800"
      ]
     },
     "execution_count": 56,
     "metadata": {},
     "output_type": "execute_result"
    }
   ],
   "source": [
    "len(df['timeExperiment'])"
   ]
  },
  {
   "cell_type": "code",
   "execution_count": 60,
   "metadata": {},
   "outputs": [
    {
     "data": {
      "text/plain": [
       "35.01916666666667"
      ]
     },
     "execution_count": 60,
     "metadata": {},
     "output_type": "execute_result"
    }
   ],
   "source": [
    "df['timeExperiment'][799]/60"
   ]
  },
  {
   "cell_type": "code",
   "execution_count": null,
   "metadata": {},
   "outputs": [],
   "source": []
  }
 ],
 "metadata": {
  "kernelspec": {
   "display_name": "Python 3",
   "language": "python",
   "name": "python3"
  },
  "language_info": {
   "codemirror_mode": {
    "name": "ipython",
    "version": 3
   },
   "file_extension": ".py",
   "mimetype": "text/x-python",
   "name": "python",
   "nbconvert_exporter": "python",
   "pygments_lexer": "ipython3",
   "version": "3.7.1"
  }
 },
 "nbformat": 4,
 "nbformat_minor": 2
}
